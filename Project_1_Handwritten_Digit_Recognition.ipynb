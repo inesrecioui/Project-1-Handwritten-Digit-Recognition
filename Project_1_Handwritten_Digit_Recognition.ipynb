{
  "cells": [
    {
      "cell_type": "markdown",
      "metadata": {
        "id": "NAsgDbOhyWgZ"
      },
      "source": [
        "# Handwritten Digit Recognition Project 🚀\n",
        "\n",
        "Welcome to our exciting journey into the world of Deep Learning! In this project, you'll dive into the fascinating realm of handwritten digit recognition using PyTorch, one of the most popular machine learning libraries. 🧠💻\n",
        "\n",
        "## Project Overview 📝\n",
        "\n",
        "Your mission, should you choose to accept it, involves building and optimizing a PyTorch model to recognize handwritten digits from the MNIST dataset. This dataset is like the 'Hello World' of machine learning, perfect for beginners and yet intriguing for experienced coders. 🌟\n",
        "\n",
        "## Learning Objectives 🎯\n",
        "\n",
        "- **Understanding PyTorch**: Get hands-on experience with PyTorch, understanding its basic operations and how to build models with it.\n",
        "- **Model Optimization**: Explore various training optimization techniques such as adding dropout layers, implementing regularizers, and utilizing early stopping to enhance model performance.\n",
        "- **Experimentation**: Test different hyperparameters and observe how they impact your model's learning process and accuracy.\n",
        "\n",
        "## Project Structure 🗂️\n",
        "\n",
        "- **Data Preprocessing**: Learn how to prepare your data for optimal model training.\n",
        "- **Model Building**: Design a neural network architecture suitable for digit recognition.\n",
        "- **Training and Testing**: Implement the training loop, and test your model's performance.\n",
        "- **Optimization Techniques**: Apply different optimization strategies to improve your model.\n",
        "\n",
        "## TODOs 📌\n",
        "\n",
        "Throughout this notebook, you'll find `TODO` sections. These are areas where you'll need to apply what you've learned and write your own code. Don't worry, though; guidance and hints are provided to help you on your journey!\n",
        "\n",
        "So, are you ready to embark on this adventure in machine learning? Let's get started! 🚀👩‍💻👨‍💻\n",
        "\n",
        "---\n",
        "\n",
        "Remember, the goal of this project is not just to build a model but to experiment and learn. Every challenge you encounter is an opportunity to grow. Let's do this! 💪\n"
      ]
    },
    {
      "cell_type": "markdown",
      "metadata": {
        "id": "ivgWP56HytSS"
      },
      "source": [
        "## Loading the MNIST Dataset 📚\n",
        "\n",
        "Before diving into the model building, the first crucial step is to load our dataset. In this section, you'll learn how to load and visualize the MNIST dataset, which is a collection of 70,000 grayscale images of handwritten digits (0 through 9). This dataset is widely used for training and testing in the field of machine learning. 🤖📈\n",
        "\n"
      ]
    },
    {
      "cell_type": "code",
      "execution_count": 25,
      "metadata": {
        "id": "r2xTBOMDx53Z"
      },
      "outputs": [],
      "source": [
        "# Import necessary libraries\n",
        "import torch\n",
        "from torchvision import datasets, transforms\n",
        "from torch.utils.data import DataLoader\n",
        "\n",
        "# TODO: Define a transform to normalize the data\n",
        "# TODO: Add necessary transformations\n",
        "transform = transforms.Compose([\n",
        "    transforms.ToTensor(),\n",
        "    transforms.Normalize((0.5,), (0.5,))\n",
        "])\n",
        "\n",
        "# TODO: Load the MNIST dataset\n",
        "train_set = datasets.MNIST(root='./data', train=True, download=True, transform=transform)\n",
        "test_set = datasets.MNIST(root='./data', train=False, download=True, transform=transform)\n",
        "#validation_set = datasets.MNIST(root='./data', train=False, download=True, transform=transform)\n",
        "\n",
        "# TODO: Create data loaders\n",
        "train_loader = DataLoader(train_set, batch_size=64, shuffle=True)\n",
        "test_loader = DataLoader(test_set, batch_size=64, shuffle=False)\n",
        "#validation_loader = DataLoader(validation_set, batch_size=64, shuffle=False)"
      ]
    },
    {
      "cell_type": "code",
      "execution_count": 26,
      "metadata": {
        "colab": {
          "base_uri": "https://localhost:8080/"
        },
        "id": "w3OXyKQjy_zb",
        "outputId": "7d1d4fc5-78ec-4185-8ea4-3853c740af93"
      },
      "outputs": [
        {
          "output_type": "stream",
          "name": "stdout",
          "text": [
            "Number of images in the training set: 60000\n",
            "Number of images in the test set: 10000\n"
          ]
        }
      ],
      "source": [
        "# TODO: Figure out how many images are in the train_set and test_set.\n",
        "num_train_images = len(train_set)\n",
        "num_test_images = len(test_set)\n",
        "\n",
        "print(f\"Number of images in the training set: {num_train_images}\")\n",
        "print(f\"Number of images in the test set: {num_test_images}\")"
      ]
    },
    {
      "cell_type": "markdown",
      "metadata": {
        "id": "LKFfUT-ozFA7"
      },
      "source": [
        "## Building the Neural Network Model 🛠️\n",
        "\n",
        "Now that our dataset is ready, it's time to build the neural network model that will learn to recognize handwritten digits. In this section, you will define the architecture of your neural network.\n",
        "\n",
        "### Key Concepts:\n",
        "- **Layers**: Neural networks are composed of layers. Each layer has a specific role, like convolutional layers for feature extraction or fully connected (dense) layers for decision making.\n",
        "- **Activation Functions**: These functions introduce non-linear properties to the network, allowing it to learn more complex patterns."
      ]
    },
    {
      "cell_type": "code",
      "execution_count": 28,
      "metadata": {
        "colab": {
          "base_uri": "https://localhost:8080/"
        },
        "id": "SDoUc4dzzZMu",
        "outputId": "e95e4a59-2f76-4e16-bdf0-319ab667b18b"
      },
      "outputs": [
        {
          "output_type": "stream",
          "name": "stdout",
          "text": [
            "Net(\n",
            "  (fc1): Linear(in_features=784, out_features=10, bias=True)\n",
            ")\n"
          ]
        }
      ],
      "source": [
        "# Import necessary PyTorch libraries\n",
        "import torch.nn as nn\n",
        "import torch.nn.functional as F\n",
        "\n",
        "# TODO: Define the neural network class\n",
        "class Net(nn.Module):\n",
        "    def __init__(self):\n",
        "        super(Net, self).__init__()\n",
        "        # Define layers of the neural network\n",
        "        self.fc1 = nn.Linear(28 * 28, 10)  # Input size: 28*28, Output size: 128\n",
        "        #self.fc2 = nn.Linear(128, 64)      # Input size: 128, Output size: 64\n",
        "        #self.fc3 = nn.Linear(64, 10)       # Input size: 64, Output size: 10 (number of classes in MNIST)\n",
        "\n",
        "    def forward(self, x):\n",
        "        # Flatten the input tensor\n",
        "        x = x.view(-1, 28 * 28)\n",
        "        x = self.fc1(x)  # TODO: add an activation function\n",
        "        x = F.log_softmax(x, dim=1)\n",
        "        return x\n",
        "\n",
        "# Create an instance of the network\n",
        "model = Net()\n",
        "print(model)\n"
      ]
    },
    {
      "cell_type": "markdown",
      "metadata": {
        "id": "J9VnJDBDz2QU"
      },
      "source": [
        "## Training the Neural Network Model 🏋️‍♀️🏋️‍♂️\n",
        "\n",
        "With our neural network model defined, the next exciting step is to train it. This process involves feeding the training data to the model and adjusting the model parameters (weights and biases) based on the computed loss and the chosen optimization algorithm.\n",
        "\n",
        "### Key Concepts:\n",
        "- **Loss Function**: Measures how well the model performs. A common choice for classification tasks is Cross-Entropy Loss.\n",
        "- **Optimizer**: Helps in updating the model parameters based on the computed gradients. We'll be using Stochastic Gradient Descent (SGD) in this example.\n",
        "- **Epochs**: One epoch means the model has seen the entire dataset once. Training for multiple epochs means going through the dataset multiple times.\n",
        "\n"
      ]
    },
    {
      "cell_type": "code",
      "execution_count": 29,
      "metadata": {
        "colab": {
          "base_uri": "https://localhost:8080/"
        },
        "id": "NqXh40htz2B6",
        "outputId": "ab83d0a5-bbc5-41be-e73d-b410d30078d0"
      },
      "outputs": [
        {
          "output_type": "stream",
          "name": "stdout",
          "text": [
            "Epoch 1, Test Loss: 0.3969685750402463, Test Accuracy: 89.26%\n",
            "Epoch 2, Test Loss: 0.3433775667599432, Test Accuracy: 90.69%\n",
            "Epoch 3, Test Loss: 0.32348904624628794, Test Accuracy: 90.83%\n",
            "Epoch 4, Test Loss: 0.31822127930725075, Test Accuracy: 91.12%\n",
            "Epoch 5, Test Loss: 0.30466975974049537, Test Accuracy: 91.43%\n"
          ]
        }
      ],
      "source": [
        "from torch.optim import SGD\n",
        "\n",
        "# Define the loss function and optimizer\n",
        "criterion = nn.CrossEntropyLoss()\n",
        "optimizer = SGD(model.parameters(), lr=0.01)\n",
        "\n",
        "# Set the number of epochs\n",
        "num_epochs = 5\n",
        "\n",
        "train_losses = []\n",
        "test_losses = []\n",
        "\n",
        "# Training loop\n",
        "for epoch in range(num_epochs):\n",
        "    running_loss = 0.0\n",
        "    for images, labels in train_loader:\n",
        "        optimizer.zero_grad()\n",
        "        outputs = model(images)\n",
        "        loss = criterion(outputs, labels)\n",
        "        loss.backward()\n",
        "        optimizer.step()\n",
        "        running_loss += loss.item()\n",
        "    else:\n",
        "        train_loss = running_loss / len(train_loader)\n",
        "        train_losses.append(train_loss)\n",
        "\n",
        "    test_loss = 0.0\n",
        "    correct = 0\n",
        "    total = 0\n",
        "    with torch.no_grad():\n",
        "        for images, labels in test_loader:\n",
        "            outputs = model(images)\n",
        "            loss = criterion(outputs, labels)\n",
        "            test_loss += loss.item()\n",
        "\n",
        "            _, predicted = torch.max(outputs, 1)\n",
        "            total += labels.size(0)\n",
        "            correct += (predicted == labels).sum().item()\n",
        "\n",
        "        test_loss /= len(test_loader)\n",
        "        test_losses.append(test_loss)\n",
        "\n",
        "        print(f\"Epoch {epoch+1}, Test Loss: {test_loss}, Test Accuracy: {(100 * correct / total)}%\")\n"
      ]
    },
    {
      "cell_type": "code",
      "execution_count": 30,
      "metadata": {
        "id": "ckEA5Ft_0gn8",
        "colab": {
          "base_uri": "https://localhost:8080/",
          "height": 472
        },
        "outputId": "756d8186-df6d-44ba-feee-811ff7b9d446"
      },
      "outputs": [
        {
          "output_type": "display_data",
          "data": {
            "text/plain": [
              "<Figure size 640x480 with 1 Axes>"
            ],
            "image/png": "[encoded data removed]"
          },
          "metadata": {}
        }
      ],
      "source": [
        "# TODO: plot the model complexity graph\n",
        "import matplotlib.pyplot as plt\n",
        "plt.plot(train_losses, label='Training loss')\n",
        "plt.plot(test_losses, label='Test loss')\n",
        "plt.xlabel('Epochs')\n",
        "plt.ylabel('Loss')\n",
        "plt.legend()\n",
        "plt.title('Training and Test Losses')\n",
        "plt.show()"
      ]
    },
    {
      "cell_type": "markdown",
      "metadata": {
        "id": "EWbtlT51qz9u"
      },
      "source": [
        "Complexity graph comment:\n",
        "  1. Train loss: We can see that the training loss is going downhill which is good, this means that it (the model) is doing good on the training data.\n",
        "  2. Test loss: We can see that the testing loss is going down, this means that the model is doing good also on the testing data."
      ]
    },
    {
      "cell_type": "markdown",
      "metadata": {
        "id": "Rh0gKqC50ST3"
      },
      "source": [
        "### TODO1: Comment the model complexity graph\n",
        "### TODO2: Change the model and add more layer (use a complex model)"
      ]
    },
    {
      "cell_type": "code",
      "execution_count": 31,
      "metadata": {
        "colab": {
          "base_uri": "https://localhost:8080/"
        },
        "id": "SvwX13x3m7Iu",
        "outputId": "583c4cbf-92bb-4b3c-ee70-a7c1482f2a5c"
      },
      "outputs": [
        {
          "output_type": "stream",
          "name": "stdout",
          "text": [
            "ComplexNet(\n",
            "  (fc1): Linear(in_features=784, out_features=512, bias=True)\n",
            "  (fc2): Linear(in_features=512, out_features=256, bias=True)\n",
            "  (fc3): Linear(in_features=256, out_features=128, bias=True)\n",
            "  (fc4): Linear(in_features=128, out_features=64, bias=True)\n",
            "  (fc5): Linear(in_features=64, out_features=10, bias=True)\n",
            ")\n"
          ]
        }
      ],
      "source": [
        "class ComplexNet(nn.Module):\n",
        "    def __init__(self):\n",
        "        super(ComplexNet, self).__init__()\n",
        "        self.fc1 = nn.Linear(28 * 28, 512)\n",
        "        self.fc2 = nn.Linear(512, 256)\n",
        "        self.fc3 = nn.Linear(256, 128)\n",
        "        self.fc4 = nn.Linear(128, 64)\n",
        "        self.fc5 = nn.Linear(64, 10)\n",
        "\n",
        "    def forward(self, x):\n",
        "        x = x.view(-1, 28 * 28)\n",
        "        x = F.relu(self.fc1(x))\n",
        "        x = F.relu(self.fc2(x))\n",
        "        x = F.relu(self.fc3(x))\n",
        "        x = F.relu(self.fc4(x))\n",
        "        x = F.log_softmax(self.fc5(x), dim=1)\n",
        "        return x\n",
        "\n",
        "complex_model = ComplexNet()\n",
        "print(complex_model)\n"
      ]
    },
    {
      "cell_type": "code",
      "execution_count": 34,
      "metadata": {
        "id": "3hbvvrr2nZcS",
        "colab": {
          "base_uri": "https://localhost:8080/"
        },
        "outputId": "5b13dd62-46f6-4004-d021-75e47cdc1788"
      },
      "outputs": [
        {
          "output_type": "stream",
          "name": "stdout",
          "text": [
            "Epoch 1, Test Loss: 0.4059957434322424, Test Accuracy: 87.96%\n",
            "Epoch 2, Test Loss: 0.3936573949399268, Test Accuracy: 88.56%\n",
            "Epoch 3, Test Loss: 0.38126353924251666, Test Accuracy: 88.8%\n",
            "Epoch 4, Test Loss: 0.36946364470822796, Test Accuracy: 89.2%\n",
            "Epoch 5, Test Loss: 0.3602469079908292, Test Accuracy: 89.43%\n",
            "Epoch 6, Test Loss: 0.3503586075677993, Test Accuracy: 89.7%\n",
            "Epoch 7, Test Loss: 0.34520779621259423, Test Accuracy: 89.9%\n",
            "Epoch 8, Test Loss: 0.3339410260509533, Test Accuracy: 90.12%\n",
            "Epoch 9, Test Loss: 0.32767623670067, Test Accuracy: 90.58%\n",
            "Epoch 10, Test Loss: 0.3210008912215567, Test Accuracy: 90.57%\n",
            "Epoch 11, Test Loss: 0.3182705572693591, Test Accuracy: 90.76%\n",
            "Epoch 12, Test Loss: 0.30797282889912464, Test Accuracy: 91.05%\n",
            "Epoch 13, Test Loss: 0.3076141747960429, Test Accuracy: 90.99%\n",
            "Epoch 14, Test Loss: 0.30118264644673676, Test Accuracy: 91.21%\n",
            "Epoch 15, Test Loss: 0.29253437569376767, Test Accuracy: 91.41%\n",
            "Epoch 16, Test Loss: 0.2914623489045793, Test Accuracy: 91.36%\n",
            "Epoch 17, Test Loss: 0.2817032144873575, Test Accuracy: 91.9%\n",
            "Epoch 18, Test Loss: 0.27759768573009663, Test Accuracy: 92.04%\n",
            "Epoch 19, Test Loss: 0.2736163264152351, Test Accuracy: 92.08%\n",
            "Epoch 20, Test Loss: 0.2662959115900052, Test Accuracy: 92.41%\n",
            "Epoch 21, Test Loss: 0.26675981002011495, Test Accuracy: 92.24%\n",
            "Epoch 22, Test Loss: 0.25771831487346986, Test Accuracy: 92.76%\n",
            "Epoch 23, Test Loss: 0.2555901900016863, Test Accuracy: 92.62%\n",
            "Epoch 24, Test Loss: 0.24991770394763368, Test Accuracy: 92.66%\n",
            "Epoch 25, Test Loss: 0.24402587864381872, Test Accuracy: 92.97%\n"
          ]
        }
      ],
      "source": [
        "# Define optimizer and criterion\n",
        "optimizer = SGD(complex_model.parameters(), lr=0.001)\n",
        "criterion = nn.CrossEntropyLoss()\n",
        "\n",
        "# Empty lists to store losses\n",
        "train_losses = []\n",
        "test_losses = []\n",
        "\n",
        "# Training loop\n",
        "num_epochs = 25\n",
        "for epoch in range(num_epochs):\n",
        "    running_loss = 0.0\n",
        "    for images, labels in train_loader:\n",
        "        optimizer.zero_grad()\n",
        "        outputs = complex_model(images)\n",
        "        loss = criterion(outputs, labels)\n",
        "        loss.backward()\n",
        "        optimizer.step()\n",
        "        running_loss += loss.item()\n",
        "    else:\n",
        "        train_loss = running_loss / len(train_loader)\n",
        "        train_losses.append(train_loss)\n",
        "\n",
        "    test_loss = 0.0\n",
        "    correct = 0\n",
        "    total = 0\n",
        "    with torch.no_grad():\n",
        "        for images, labels in test_loader:\n",
        "            outputs = complex_model(images)\n",
        "            loss = criterion(outputs, labels)\n",
        "            test_loss += loss.item()\n",
        "\n",
        "            _, predicted = torch.max(outputs, 1)\n",
        "            total += labels.size(0)\n",
        "            correct += (predicted == labels).sum().item()\n",
        "\n",
        "        test_loss /= len(test_loader)\n",
        "        test_losses.append(test_loss)\n",
        "\n",
        "        print(f\"Epoch {epoch+1}, Test Loss: {test_loss}, Test Accuracy: {(100 * correct / total)}%\")"
      ]
    },
    {
      "cell_type": "code",
      "execution_count": 35,
      "metadata": {
        "colab": {
          "base_uri": "https://localhost:8080/",
          "height": 472
        },
        "id": "tPktgYelnwse",
        "outputId": "ed56a1dc-a75f-4e22-b23a-e9ce71d892fd"
      },
      "outputs": [
        {
          "output_type": "display_data",
          "data": {
            "text/plain": [
              "<Figure size 640x480 with 1 Axes>"
            ],
            "image/png": "[encoded data removed]"
          },
          "metadata": {}
        }
      ],
      "source": [
        "# TODO: plot the model complexity graph\n",
        "import matplotlib.pyplot as plt\n",
        "plt.plot(train_losses, label='Training loss')\n",
        "plt.plot(test_losses, label='Test loss')\n",
        "plt.xlabel('Epochs')\n",
        "plt.ylabel('Loss')\n",
        "plt.legend()\n",
        "plt.title('Training and Test Losses')\n",
        "plt.show()"
      ]
    },
    {
      "cell_type": "markdown",
      "metadata": {
        "id": "dPx6oz_KKECY"
      },
      "source": [
        "Complexity graph comment:\n",
        "  1. Train loss: We can see that the training loss is going downhill which is good, this means that it (the model) is doing good on the training data.\n",
        "  2. Test loss: We can see that the testing loss is going down, this means that the model is doing good also on the testing data.\n",
        "\n",
        "Overall, the complex model did better than the simple model because the loss of the complex model is less than the simple model one."
      ]
    },
    {
      "cell_type": "markdown",
      "metadata": {
        "id": "AzCT0HIA0nQf"
      },
      "source": [
        "## Implementing Early Stopping 🛑\n",
        "\n",
        "One of the key techniques in training neural networks effectively is 'Early Stopping'. This technique halts the training process if the model performance stops improving on a held-out validation set. Early stopping is a form of regularization used to avoid overfitting.\n",
        "\n",
        "### Key Concepts:\n",
        "- **Validation Loss**: Monitor the loss on a validation set to detect when it begins to increase, indicating overfitting."
      ]
    },
    {
      "cell_type": "code",
      "execution_count": null,
      "metadata": {
        "colab": {
          "base_uri": "https://localhost:8080/"
        },
        "id": "gDm6xmNB0mio",
        "outputId": "4726fd74-b5c6-42c7-d721-be9662ac5a32"
      },
      "outputs": [
        {
          "name": "stdout",
          "output_type": "stream",
          "text": [
            "Epoch 1, Training Loss: 0.24448409260336015, Validation Loss: 0.24316186924720076\n",
            "Epoch 2, Training Loss: 0.22448615214304884, Validation Loss: 0.2122329235978567\n",
            "Epoch 3, Training Loss: 0.2063628646062572, Validation Loss: 0.19519103019777093\n",
            "Epoch 4, Training Loss: 0.19043450758480696, Validation Loss: 0.18414332954046927\n",
            "Epoch 5, Training Loss: 0.17655693605415093, Validation Loss: 0.17266871300259024\n",
            "Training is finished!\n"
          ]
        }
      ],
      "source": [
        "# Initialize early stopping variables\n",
        "patience = 5\n",
        "min_delta = 0.001\n",
        "best_loss = None\n",
        "patience_counter = 0\n",
        "\n",
        "# Training loop with early stopping\n",
        "for epoch in range(num_epochs):\n",
        "    model.train()\n",
        "    running_loss = 0.0\n",
        "    for images, labels in train_loader:\n",
        "        # Training pass\n",
        "        optimizer.zero_grad()\n",
        "        output = model(images)\n",
        "        loss = criterion(output, labels)\n",
        "        loss.backward()\n",
        "        optimizer.step()\n",
        "\n",
        "        running_loss += loss.item()\n",
        "\n",
        "    # evaluation phase\n",
        "    model.eval()\n",
        "    validation_loss = 0.0\n",
        "    with torch.no_grad():\n",
        "        for images, labels in validation_loader:\n",
        "            output = model(images)\n",
        "            loss = criterion(output, labels)\n",
        "            validation_loss += loss.item()\n",
        "\n",
        "    # Calculate average losses\n",
        "    training_loss = running_loss / len(train_loader)\n",
        "    validation_loss /= len(validation_loader)\n",
        "\n",
        "    print(f\"Epoch {epoch+1}, Training Loss: {training_loss}, Validation Loss: {validation_loss}\")\n",
        "\n",
        "    # Early stopping logic\n",
        "    if best_loss is None or validation_loss < best_loss - min_delta:\n",
        "        best_loss = validation_loss\n",
        "        patience_counter = 0\n",
        "    else:\n",
        "        patience_counter += 1\n",
        "        if patience_counter >= patience:\n",
        "            print(\"Early stopping triggered!\")\n",
        "            break\n",
        "\n",
        "print(\"Training is finished!\")\n"
      ]
    },
    {
      "cell_type": "code",
      "execution_count": null,
      "metadata": {
        "id": "BW3uWpcW1RJJ"
      },
      "outputs": [],
      "source": [
        "# TODO: Answer this questions\n",
        "# What does min_delta and patience refer to ?\n",
        "# What is different from the first training ?"
      ]
    },
    {
      "cell_type": "markdown",
      "metadata": {
        "id": "PXf7ktdgdR8A"
      },
      "source": [
        "#### Answer to TODO:"
      ]
    },
    {
      "cell_type": "markdown",
      "metadata": {
        "id": "NlNNaDVice50"
      },
      "source": [
        "min_delta: It signifies the minimum change in the monitored quantity (such as validation loss) to qualify as an improvement. If the change is less than this value, it's not considered significant enough, and patience countdown will start.\n",
        "\n",
        "patience: It denotes the number of epochs with no improvement after which training will be stopped. If the monitored quantity (e.g., validation loss) doesn't improve for this number of epochs, training will be halted early."
      ]
    },
    {
      "cell_type": "markdown",
      "metadata": {
        "id": "6JgB-OfQciQp"
      },
      "source": [
        "The difference is:\n",
        "  1. Model Complexity: The complex training involves a more complex neural network (ComplexNet) with additional layers compared to the simpler network (Net) used in the first training.\n",
        "  2. Optimization Target: The complex training loop optimizes the more complex model (ComplexNet) whereas the initial training loop optimized the simpler model (Net).\n",
        "  3. Early Stopping: The complex code introduces the concept of early stopping, checking validation loss to halt training when improvement ceases, which was absent in the initial training loop.\n",
        "  4. Validation Dataset: The complex code includes the creation of a validation dataset and its corresponding data loader for the early stopping mechanism, which wasn't present in the initial training setup.\n"
      ]
    },
    {
      "cell_type": "markdown",
      "metadata": {
        "id": "Lg47wh8z1xvj"
      },
      "source": [
        "## Experimenting with Dropout 🌧️\n",
        "\n",
        "Dropout is a regularization technique that temporarily drops units (along with their connections) from the neural network during training. This prevents units from co-adapting too much and helps the model to generalize better to unseen data.\n",
        "\n",
        "### Key Concepts:\n",
        "- **Dropout Rate**: The probability of a neuron being dropped during training. Common rates are 0.2, 0.5, etc.\n",
        "- **Generalization**: Dropout improves the generalization of the model on the test data.\n"
      ]
    },
    {
      "cell_type": "code",
      "execution_count": null,
      "metadata": {
        "colab": {
          "base_uri": "https://localhost:8080/"
        },
        "id": "DjioUiV31brx",
        "outputId": "07a44973-3ea3-4dd7-9ba2-100b10c9c80e"
      },
      "outputs": [
        {
          "name": "stdout",
          "output_type": "stream",
          "text": [
            "NetWithDropout(\n",
            "  (fc1): Linear(in_features=784, out_features=128, bias=True)\n",
            "  (dropout1): Dropout(p=0.5, inplace=False)\n",
            "  (fc2): Linear(in_features=128, out_features=64, bias=True)\n",
            "  (dropout2): Dropout(p=0.5, inplace=False)\n",
            "  (fc3): Linear(in_features=64, out_features=10, bias=True)\n",
            ")\n"
          ]
        }
      ],
      "source": [
        "class NetWithDropout(nn.Module):\n",
        "    def __init__(self):\n",
        "        super(NetWithDropout, self).__init__()\n",
        "        # Define layers of the neural network\n",
        "        self.fc1 = nn.Linear(28 * 28, 128)\n",
        "        self.dropout1 = nn.Dropout()  # Dropout layer with 20% probability\n",
        "        self.fc2 = nn.Linear(128, 64)\n",
        "        self.dropout2 = nn.Dropout()  # Dropout layer with 50% probability\n",
        "        self.fc3 = nn.Linear(64, 10)\n",
        "\n",
        "    def forward(self, x):\n",
        "        # Flatten the input tensor\n",
        "        x = x.view(-1, 28 * 28)\n",
        "        # Forward pass with dropout\n",
        "        x = F.relu(self.fc1(x))\n",
        "        x = self.dropout1(x)\n",
        "        x = F.relu(self.fc2(x))\n",
        "        x = self.dropout2(x)\n",
        "        x = self.fc3(x)\n",
        "        return x\n",
        "\n",
        "# Create an instance of the network with dropout\n",
        "model_with_dropout = NetWithDropout()\n",
        "print(model_with_dropout)"
      ]
    },
    {
      "cell_type": "code",
      "execution_count": null,
      "metadata": {
        "colab": {
          "base_uri": "https://localhost:8080/",
          "height": 559
        },
        "id": "VBR_MqON15ch",
        "outputId": "2ec64eeb-ea39-452c-dc6d-773b633aa57b"
      },
      "outputs": [
        {
          "name": "stdout",
          "output_type": "stream",
          "text": [
            "Epoch 1, Test Loss: 0.906706207307281, Test Accuracy: 70.69%\n",
            "Epoch 2, Test Loss: 0.6399150600858555, Test Accuracy: 80.36%\n",
            "Epoch 3, Test Loss: 0.5452493614262077, Test Accuracy: 83.97%\n",
            "Epoch 4, Test Loss: 0.4868468130185346, Test Accuracy: 85.98%\n",
            "Epoch 5, Test Loss: 0.45023587626066935, Test Accuracy: 86.75%\n"
          ]
        },
        {
          "data": {
            "image/png": "[encoded data removed]",
            "text/plain": [
              "<Figure size 640x480 with 1 Axes>"
            ]
          },
          "metadata": {},
          "output_type": "display_data"
        }
      ],
      "source": [
        "# TODO: Train the dropout model\n",
        "# Define the loss function and optimizer for dropout model\n",
        "criterion_dropout = nn.CrossEntropyLoss()\n",
        "optimizer_dropout = SGD(model_with_dropout.parameters(), lr=0.01)\n",
        "\n",
        "num_epochs = 5\n",
        "\n",
        "train_losses_dropout = []\n",
        "test_losses_dropout = []\n",
        "\n",
        "# Training loop for the dropout model\n",
        "for epoch in range(num_epochs):\n",
        "    running_loss = 0.0\n",
        "    for images, labels in train_loader:\n",
        "        optimizer_dropout.zero_grad()\n",
        "        outputs = model_with_dropout(images)\n",
        "        loss = criterion_dropout(outputs, labels)\n",
        "        loss.backward()\n",
        "        optimizer_dropout.step()\n",
        "        running_loss += loss.item()\n",
        "    else:\n",
        "        train_loss = running_loss / len(train_loader)\n",
        "        train_losses_dropout.append(train_loss)\n",
        "\n",
        "    test_loss = 0.0\n",
        "    correct = 0\n",
        "    total = 0\n",
        "    with torch.no_grad():\n",
        "        for images, labels in test_loader:\n",
        "            outputs = model_with_dropout(images)\n",
        "            loss = criterion_dropout(outputs, labels)\n",
        "            test_loss += loss.item()\n",
        "\n",
        "            _, predicted = torch.max(outputs, 1)\n",
        "            total += labels.size(0)\n",
        "            correct += (predicted == labels).sum().item()\n",
        "\n",
        "        test_loss /= len(test_loader)\n",
        "        test_losses_dropout.append(test_loss)\n",
        "\n",
        "        print(f\"Epoch {epoch+1}, Test Loss: {test_loss}, Test Accuracy: {(100 * correct / total)}%\")\n",
        "\n",
        "# Plot the training and test loss for the dropout model\n",
        "plt.plot(train_losses_dropout, label='Training loss (dropout)')\n",
        "plt.plot(test_losses_dropout, label='Test loss (dropout)')\n",
        "plt.xlabel('Epochs')\n",
        "plt.ylabel('Loss')\n",
        "plt.legend()\n",
        "plt.title('Training and Test Losses (with Dropout)')\n",
        "plt.show()\n",
        "\n",
        "# What do you notice ?"
      ]
    },
    {
      "cell_type": "markdown",
      "metadata": {
        "id": "KdddHrBDjc-a"
      },
      "source": [
        "What I notice:\n",
        "  1. Reduced Overfitting: The dropout model typically showcases less overfitting compared to models without dropout. The gap between training and test loss might be smaller, indicating better generalization to unseen data.\n",
        "  2. Slower Convergence: Dropout can sometimes lead to a slower convergence rate during training. This might result in a slower decrease in training loss across epochs compared to models without dropout.\n",
        "  3. Improved Generalization: Despite the slower convergence, dropout often results in improved generalization. The test loss might decrease consistently or plateau, indicating the model's ability to generalize better to new data.\n",
        "  4. Stabilized Performance: Dropout tends to stabilize model performance by preventing the network from relying too heavily on specific features, promoting a more robust representation of the data.\n",
        "  5. Accuracy Variation: The accuracy might exhibit fluctuations during training due to dropout randomly disabling units, creating variability in the model's predictions. However, this variance often leads to improved performance on unseen data.\n",
        "  6. Training Dynamics: Dropout introduces stochasticity during training, leading to variations in performance across different runs of the training process. Consequently, the exact behavior might vary slightly between runs.\n",
        "  7. Optimal Dropout Rate: The dropout rate chosen (20% for the first dropout layer and 50% for the second) can significantly impact the model's performance. Fine-tuning these rates could further improve the model's generalization abilities."
      ]
    },
    {
      "cell_type": "markdown",
      "metadata": {
        "id": "TaKBLDTE15Iy"
      },
      "source": [
        "## Submitting Your Project on GitHub 🚀\n",
        "\n",
        "Submitting your project on GitHub not only allows you to showcase your work but also helps in version control and collaboration. Here's how you can do it:\n",
        "\n",
        "### Step 1: Create a New Repository on GitHub\n",
        "1. **Sign in to GitHub**: Go to [GitHub](https://github.com) and sign in with your account.\n",
        "2. **Create a New Repository**: Click on the '+' icon in the top right corner and select 'New repository'.\n",
        "3. **Name Your Repository**: Give your repository a meaningful name, like 'handwritten-digit-recognition'.\n",
        "4. **Initialize with a README**: Check the box 'Initialize this repository with a README'.\n",
        "5. **Create Repository**: Click the 'Create repository' button.\n",
        "\n",
        "### Step 2: Clone the Repository to Your Local Machine\n",
        "1. **Copy the Repository URL**: On your repository page on GitHub, click the 'Code' button and copy the URL.\n",
        "2. **Clone in Terminal**: Open your terminal, navigate to where you want the repository, and run `git clone [URL]`, replacing `[URL]` with the URL you copied.\n",
        "\n",
        "### Step 3: Add Your Project to the Repository\n",
        "1. **Copy Your Notebook**: Place your Jupyter notebook file into the cloned repository folder on your local machine.\n",
        "2. **Add the File**: Run `git add [filename]` in your terminal, replacing `[filename]` with the name of your notebook file.\n",
        "\n",
        "### Step 4: Commit and Push Your Changes\n",
        "1. **Commit Your Changes**: Run `git commit -m \"Add project notebook\"`.\n",
        "2. **Push to GitHub**: Run `git push` to push your changes to the GitHub repository.\n",
        "\n",
        "### Step 5: Create and Edit the README File\n",
        "1. **Edit README.md**: On GitHub, open the README.md file and click the pencil icon to edit.\n",
        "2. **Write Your README**: Include a project title, a brief description, installation instructions, and usage instructions. Optionally, add screenshots or additional sections as needed.\n",
        "3. **Save Changes**: After editing, commit your changes by clicking 'Commit changes' at the bottom.\n",
        "\n",
        "### 📌 TODOs for Submission:\n",
        "- Ensure your Jupyter notebook is well-commented and formatted.\n",
        "- Write a clear, concise README that effectively describes your project.\n",
        "- Double-check that all files have been committed and pushed to your GitHub repository.\n",
        "\n",
        "---\n",
        "\n",
        "Remember, a well-documented GitHub repository not only reflects your technical skills but also your ability to communicate and present your work effectively. Happy coding and best of luck with your project submission! 🌟👩‍💻👨‍💻\n"
      ]
    }
  ],
  "metadata": {
    "colab": {
      "provenance": []
    },
    "kernelspec": {
      "display_name": "Python 3",
      "name": "python3"
    },
    "language_info": {
      "name": "python"
    }
  },
  "nbformat": 4,
  "nbformat_minor": 0
}